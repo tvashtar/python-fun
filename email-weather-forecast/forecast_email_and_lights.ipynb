{
 "cells": [
  {
   "cell_type": "markdown",
   "metadata": {},
   "source": [
    "## Daily emailed weather forecasts"
   ]
  },
  {
   "cell_type": "markdown",
   "metadata": {},
   "source": [
    "Like many others, my brain does not function well in the morning pre-coffee and so living in NYC with its tempermental weather I would inevitably get caught out either by rain or a sharp temperature drop. I could check the weather every morning but who remembers to do that? Instead I tried to find a way to insert a weather forecast into my normal routine in a way I couldn't miss. I thought about my morning routine and decided on two ways that I could inject a forecast without having to change my behaviour.  \n",
    "\n",
    "1. Set up a daily email that includes both a easy to understand subject, and a quick reference chart. If you set your own email as a VIP email address in your iPhone mail app, this will mean that the subject will show as a lock screen notification, giving you a weather forecast if you even glance at the front of your phone. I often check the time on my phone in the morning, so I'll see the forecast immediately. \n",
    "\n",
    "2. In the time window during which I'm preparing to leave the house (7:45-8:15am), use color changing light bulbs to change the color of my living room lights to blue if it will rain, meaning I can't miss a warning to pick up my umbrella. \n",
    "\n",
    "This notebook will walk you through how to set up the first. The second is covered in the forecast_lights notebook. "
   ]
  },
  {
   "cell_type": "code",
   "execution_count": 1,
   "metadata": {},
   "outputs": [],
   "source": [
    "import requests\n",
    "import datetime\n",
    "import matplotlib\n",
    "import matplotlib.pyplot as plt\n",
    "import pandas as pd\n",
    "\n",
    "from creds import cdict\n",
    "from python_fun.core.utilities import summarize_dict\n",
    "\n",
    "## Note I have a creds module in my pythonpath where I store any \n",
    "## sensitive information that can't be added to this repository, \n",
    "## it just takes the form of a single dictionary cdict"
   ]
  },
  {
   "cell_type": "code",
   "execution_count": 2,
   "metadata": {},
   "outputs": [],
   "source": [
    "%matplotlib inline"
   ]
  },
  {
   "cell_type": "markdown",
   "metadata": {},
   "source": [
    "#### Exploring the forecast.io API and using it to generate a daily personal email"
   ]
  },
  {
   "cell_type": "markdown",
   "metadata": {},
   "source": [
    "For most any api call, I often write a wrapper to handle authentication and remembering endpoints and the query structure, so I can interact with it in a simpler way. "
   ]
  },
  {
   "cell_type": "code",
   "execution_count": 3,
   "metadata": {},
   "outputs": [],
   "source": [
    "def get_raw_weather(lat='40.674766',lon='-73.978959'):\n",
    "    '''Simple requests wrapper to allow retrival of the latest weather forecast from the forecast.io API'''\n",
    "    data = requests.get(f\"https://api.forecast.io/forecast/{cdict['forecastio_api_key']}/{lat},{lon}\").json()\n",
    "    return data"
   ]
  },
  {
   "cell_type": "code",
   "execution_count": 4,
   "metadata": {},
   "outputs": [],
   "source": [
    "raw_data = get_raw_weather()"
   ]
  },
  {
   "cell_type": "markdown",
   "metadata": {},
   "source": [
    "Let's have a quick look at the data we get back from this API call, for more details see https://darksky.net/dev/docs . Here I'll use a simple utility function I wrote to pretty print nested dicts, this is particularly useful when dealing with the kind of nested data often seen in a json payload. "
   ]
  },
  {
   "cell_type": "code",
   "execution_count": 5,
   "metadata": {},
   "outputs": [
    {
     "name": "stdout",
     "output_type": "stream",
     "text": [
      "    Initial Object: <class 'dict'> with 9 elements\n",
      "        latitude: 40.674766\n",
      "        longitude: -73.978959\n",
      "        timezone: America/New_York\n",
      "        currently: <class 'dict'> with 19 elements\n",
      "        minutely: <class 'dict'> with 3 elements\n",
      "            summary: Clear for the hour.\n",
      "            icon: clear-day\n",
      "            data: <class 'list'> with 61 elements\n",
      "        hourly: <class 'dict'> with 3 elements\n",
      "            summary: Mostly cloudy starting tonight, continuing until tomorrow morning.\n",
      "            icon: partly-cloudy-night\n",
      "            data: <class 'list'> with 49 elements\n",
      "        daily: <class 'dict'> with 3 elements\n",
      "            summary: Mixed precipitation today through Friday, with temperatures peaking at 47°F on Tuesday.\n",
      "            icon: snow\n",
      "            data: <class 'list'> with 8 elements\n",
      "                : <class 'dict'> with 40 elements\n",
      "                : <class 'dict'> with 40 elements\n",
      "                : <class 'dict'> with 39 elements\n",
      "                : <class 'dict'> with 40 elements\n",
      "                : <class 'dict'> with 39 elements\n",
      "                : <class 'dict'> with 39 elements\n",
      "                : <class 'dict'> with 39 elements\n",
      "                : <class 'dict'> with 38 elements\n",
      "        flags: <class 'dict'> with 3 elements\n",
      "            sources: <class 'list'> with 10 elements\n",
      "                isd\n",
      "                nearest-precip\n",
      "                nwspa\n",
      "                cmc\n",
      "                gfs\n",
      "                hrrr\n",
      "                madis\n",
      "                nam\n",
      "                sref\n",
      "                darksky\n",
      "            isd-stations: <class 'list'> with 16 elements\n",
      "            units: us\n",
      "        offset: -5\n"
     ]
    }
   ],
   "source": [
    "summarize_dict(raw_data, max_expand=10, max_depth=3)"
   ]
  },
  {
   "cell_type": "markdown",
   "metadata": {},
   "source": [
    "This basically consists of some metadata about the call we made (lat, lon, timezone), the forecasts at various time resolutions (currently, minutely, hourly and daily), some alerts and flags that apply to the data and a deprectated offset, that should be ignored and you should use timezone instead. "
   ]
  },
  {
   "cell_type": "markdown",
   "metadata": {},
   "source": [
    "For our purposes we will be focusing on the hourly forecast, so let's extract that and clean it up a bit"
   ]
  },
  {
   "cell_type": "code",
   "execution_count": 6,
   "metadata": {},
   "outputs": [
    {
     "data": {
      "text/html": [
       "<div>\n",
       "<style>\n",
       "    .dataframe thead tr:only-child th {\n",
       "        text-align: right;\n",
       "    }\n",
       "\n",
       "    .dataframe thead th {\n",
       "        text-align: left;\n",
       "    }\n",
       "\n",
       "    .dataframe tbody tr th {\n",
       "        vertical-align: top;\n",
       "    }\n",
       "</style>\n",
       "<table border=\"1\" class=\"dataframe\">\n",
       "  <thead>\n",
       "    <tr style=\"text-align: right;\">\n",
       "      <th></th>\n",
       "      <th>apparentTemperature</th>\n",
       "      <th>cloudCover</th>\n",
       "      <th>dewPoint</th>\n",
       "      <th>humidity</th>\n",
       "      <th>icon</th>\n",
       "      <th>ozone</th>\n",
       "      <th>precipAccumulation</th>\n",
       "      <th>precipIntensity</th>\n",
       "      <th>precipProbability</th>\n",
       "      <th>precipType</th>\n",
       "      <th>pressure</th>\n",
       "      <th>summary</th>\n",
       "      <th>temperature</th>\n",
       "      <th>time</th>\n",
       "      <th>uvIndex</th>\n",
       "      <th>visibility</th>\n",
       "      <th>windBearing</th>\n",
       "      <th>windGust</th>\n",
       "      <th>windSpeed</th>\n",
       "    </tr>\n",
       "  </thead>\n",
       "  <tbody>\n",
       "    <tr>\n",
       "      <th>0</th>\n",
       "      <td>34.13</td>\n",
       "      <td>0.11</td>\n",
       "      <td>25.65</td>\n",
       "      <td>0.59</td>\n",
       "      <td>rain</td>\n",
       "      <td>330.84</td>\n",
       "      <td>NaN</td>\n",
       "      <td>0.0285</td>\n",
       "      <td>0.66</td>\n",
       "      <td>rain</td>\n",
       "      <td>1012.85</td>\n",
       "      <td>Light Rain</td>\n",
       "      <td>38.54</td>\n",
       "      <td>1512932400</td>\n",
       "      <td>1</td>\n",
       "      <td>10</td>\n",
       "      <td>268</td>\n",
       "      <td>11.72</td>\n",
       "      <td>5.83</td>\n",
       "    </tr>\n",
       "    <tr>\n",
       "      <th>1</th>\n",
       "      <td>33.28</td>\n",
       "      <td>0.22</td>\n",
       "      <td>26.12</td>\n",
       "      <td>0.61</td>\n",
       "      <td>clear-day</td>\n",
       "      <td>329.77</td>\n",
       "      <td>NaN</td>\n",
       "      <td>0.0032</td>\n",
       "      <td>0.56</td>\n",
       "      <td>rain</td>\n",
       "      <td>1013.49</td>\n",
       "      <td>Clear</td>\n",
       "      <td>38.21</td>\n",
       "      <td>1512936000</td>\n",
       "      <td>1</td>\n",
       "      <td>10</td>\n",
       "      <td>249</td>\n",
       "      <td>13.86</td>\n",
       "      <td>6.52</td>\n",
       "    </tr>\n",
       "    <tr>\n",
       "      <th>2</th>\n",
       "      <td>31.08</td>\n",
       "      <td>0.30</td>\n",
       "      <td>26.91</td>\n",
       "      <td>0.66</td>\n",
       "      <td>partly-cloudy-day</td>\n",
       "      <td>329.22</td>\n",
       "      <td>NaN</td>\n",
       "      <td>0.0121</td>\n",
       "      <td>0.32</td>\n",
       "      <td>rain</td>\n",
       "      <td>1014.25</td>\n",
       "      <td>Partly Cloudy</td>\n",
       "      <td>37.20</td>\n",
       "      <td>1512939600</td>\n",
       "      <td>0</td>\n",
       "      <td>10</td>\n",
       "      <td>238</td>\n",
       "      <td>18.40</td>\n",
       "      <td>8.18</td>\n",
       "    </tr>\n",
       "    <tr>\n",
       "      <th>3</th>\n",
       "      <td>28.69</td>\n",
       "      <td>0.24</td>\n",
       "      <td>27.55</td>\n",
       "      <td>0.71</td>\n",
       "      <td>clear-night</td>\n",
       "      <td>329.61</td>\n",
       "      <td>NaN</td>\n",
       "      <td>0.0045</td>\n",
       "      <td>0.11</td>\n",
       "      <td>rain</td>\n",
       "      <td>1014.63</td>\n",
       "      <td>Clear</td>\n",
       "      <td>36.07</td>\n",
       "      <td>1512943200</td>\n",
       "      <td>0</td>\n",
       "      <td>10</td>\n",
       "      <td>243</td>\n",
       "      <td>20.93</td>\n",
       "      <td>10.20</td>\n",
       "    </tr>\n",
       "    <tr>\n",
       "      <th>4</th>\n",
       "      <td>27.07</td>\n",
       "      <td>0.14</td>\n",
       "      <td>27.40</td>\n",
       "      <td>0.73</td>\n",
       "      <td>clear-night</td>\n",
       "      <td>330.45</td>\n",
       "      <td>NaN</td>\n",
       "      <td>0.0001</td>\n",
       "      <td>0.02</td>\n",
       "      <td>rain</td>\n",
       "      <td>1015.05</td>\n",
       "      <td>Clear</td>\n",
       "      <td>35.10</td>\n",
       "      <td>1512946800</td>\n",
       "      <td>0</td>\n",
       "      <td>10</td>\n",
       "      <td>243</td>\n",
       "      <td>22.98</td>\n",
       "      <td>11.07</td>\n",
       "    </tr>\n",
       "  </tbody>\n",
       "</table>\n",
       "</div>"
      ],
      "text/plain": [
       "   apparentTemperature  cloudCover  dewPoint  humidity               icon  \\\n",
       "0                34.13        0.11     25.65      0.59               rain   \n",
       "1                33.28        0.22     26.12      0.61          clear-day   \n",
       "2                31.08        0.30     26.91      0.66  partly-cloudy-day   \n",
       "3                28.69        0.24     27.55      0.71        clear-night   \n",
       "4                27.07        0.14     27.40      0.73        clear-night   \n",
       "\n",
       "    ozone  precipAccumulation  precipIntensity  precipProbability precipType  \\\n",
       "0  330.84                 NaN           0.0285               0.66       rain   \n",
       "1  329.77                 NaN           0.0032               0.56       rain   \n",
       "2  329.22                 NaN           0.0121               0.32       rain   \n",
       "3  329.61                 NaN           0.0045               0.11       rain   \n",
       "4  330.45                 NaN           0.0001               0.02       rain   \n",
       "\n",
       "   pressure        summary  temperature        time  uvIndex  visibility  \\\n",
       "0   1012.85     Light Rain        38.54  1512932400        1          10   \n",
       "1   1013.49          Clear        38.21  1512936000        1          10   \n",
       "2   1014.25  Partly Cloudy        37.20  1512939600        0          10   \n",
       "3   1014.63          Clear        36.07  1512943200        0          10   \n",
       "4   1015.05          Clear        35.10  1512946800        0          10   \n",
       "\n",
       "   windBearing  windGust  windSpeed  \n",
       "0          268     11.72       5.83  \n",
       "1          249     13.86       6.52  \n",
       "2          238     18.40       8.18  \n",
       "3          243     20.93      10.20  \n",
       "4          243     22.98      11.07  "
      ]
     },
     "execution_count": 6,
     "metadata": {},
     "output_type": "execute_result"
    }
   ],
   "source": [
    "hourly_df = pd.DataFrame.from_dict(raw_data['hourly']['data'])\n",
    "hourly_df.head()"
   ]
  },
  {
   "cell_type": "markdown",
   "metadata": {},
   "source": [
    "Wonderful we now have a pandas dataframe containing a row of weather forecast per hour. Our only problem is the time column is stored in UNIX/POSIX time, but thankfully the built in datetime library can fix that pretty quick for us:\n"
   ]
  },
  {
   "cell_type": "code",
   "execution_count": 7,
   "metadata": {},
   "outputs": [
    {
     "name": "stdout",
     "output_type": "stream",
     "text": [
      "We have 49 rows of weather data\n"
     ]
    },
    {
     "data": {
      "text/html": [
       "<div>\n",
       "<style>\n",
       "    .dataframe thead tr:only-child th {\n",
       "        text-align: right;\n",
       "    }\n",
       "\n",
       "    .dataframe thead th {\n",
       "        text-align: left;\n",
       "    }\n",
       "\n",
       "    .dataframe tbody tr th {\n",
       "        vertical-align: top;\n",
       "    }\n",
       "</style>\n",
       "<table border=\"1\" class=\"dataframe\">\n",
       "  <thead>\n",
       "    <tr style=\"text-align: right;\">\n",
       "      <th></th>\n",
       "      <th>apparentTemperature</th>\n",
       "      <th>cloudCover</th>\n",
       "      <th>dewPoint</th>\n",
       "      <th>humidity</th>\n",
       "      <th>icon</th>\n",
       "      <th>ozone</th>\n",
       "      <th>precipAccumulation</th>\n",
       "      <th>precipIntensity</th>\n",
       "      <th>precipProbability</th>\n",
       "      <th>precipType</th>\n",
       "      <th>pressure</th>\n",
       "      <th>summary</th>\n",
       "      <th>temperature</th>\n",
       "      <th>uvIndex</th>\n",
       "      <th>visibility</th>\n",
       "      <th>windBearing</th>\n",
       "      <th>windGust</th>\n",
       "      <th>windSpeed</th>\n",
       "    </tr>\n",
       "    <tr>\n",
       "      <th>time</th>\n",
       "      <th></th>\n",
       "      <th></th>\n",
       "      <th></th>\n",
       "      <th></th>\n",
       "      <th></th>\n",
       "      <th></th>\n",
       "      <th></th>\n",
       "      <th></th>\n",
       "      <th></th>\n",
       "      <th></th>\n",
       "      <th></th>\n",
       "      <th></th>\n",
       "      <th></th>\n",
       "      <th></th>\n",
       "      <th></th>\n",
       "      <th></th>\n",
       "      <th></th>\n",
       "      <th></th>\n",
       "    </tr>\n",
       "  </thead>\n",
       "  <tbody>\n",
       "    <tr>\n",
       "      <th>2017-12-10 14:00:00</th>\n",
       "      <td>34.13</td>\n",
       "      <td>0.11</td>\n",
       "      <td>25.65</td>\n",
       "      <td>0.59</td>\n",
       "      <td>rain</td>\n",
       "      <td>330.84</td>\n",
       "      <td>NaN</td>\n",
       "      <td>0.0285</td>\n",
       "      <td>0.66</td>\n",
       "      <td>rain</td>\n",
       "      <td>1012.85</td>\n",
       "      <td>Light Rain</td>\n",
       "      <td>38.54</td>\n",
       "      <td>1</td>\n",
       "      <td>10</td>\n",
       "      <td>268</td>\n",
       "      <td>11.72</td>\n",
       "      <td>5.83</td>\n",
       "    </tr>\n",
       "    <tr>\n",
       "      <th>2017-12-10 15:00:00</th>\n",
       "      <td>33.28</td>\n",
       "      <td>0.22</td>\n",
       "      <td>26.12</td>\n",
       "      <td>0.61</td>\n",
       "      <td>clear-day</td>\n",
       "      <td>329.77</td>\n",
       "      <td>NaN</td>\n",
       "      <td>0.0032</td>\n",
       "      <td>0.56</td>\n",
       "      <td>rain</td>\n",
       "      <td>1013.49</td>\n",
       "      <td>Clear</td>\n",
       "      <td>38.21</td>\n",
       "      <td>1</td>\n",
       "      <td>10</td>\n",
       "      <td>249</td>\n",
       "      <td>13.86</td>\n",
       "      <td>6.52</td>\n",
       "    </tr>\n",
       "    <tr>\n",
       "      <th>2017-12-10 16:00:00</th>\n",
       "      <td>31.08</td>\n",
       "      <td>0.30</td>\n",
       "      <td>26.91</td>\n",
       "      <td>0.66</td>\n",
       "      <td>partly-cloudy-day</td>\n",
       "      <td>329.22</td>\n",
       "      <td>NaN</td>\n",
       "      <td>0.0121</td>\n",
       "      <td>0.32</td>\n",
       "      <td>rain</td>\n",
       "      <td>1014.25</td>\n",
       "      <td>Partly Cloudy</td>\n",
       "      <td>37.20</td>\n",
       "      <td>0</td>\n",
       "      <td>10</td>\n",
       "      <td>238</td>\n",
       "      <td>18.40</td>\n",
       "      <td>8.18</td>\n",
       "    </tr>\n",
       "    <tr>\n",
       "      <th>2017-12-10 17:00:00</th>\n",
       "      <td>28.69</td>\n",
       "      <td>0.24</td>\n",
       "      <td>27.55</td>\n",
       "      <td>0.71</td>\n",
       "      <td>clear-night</td>\n",
       "      <td>329.61</td>\n",
       "      <td>NaN</td>\n",
       "      <td>0.0045</td>\n",
       "      <td>0.11</td>\n",
       "      <td>rain</td>\n",
       "      <td>1014.63</td>\n",
       "      <td>Clear</td>\n",
       "      <td>36.07</td>\n",
       "      <td>0</td>\n",
       "      <td>10</td>\n",
       "      <td>243</td>\n",
       "      <td>20.93</td>\n",
       "      <td>10.20</td>\n",
       "    </tr>\n",
       "    <tr>\n",
       "      <th>2017-12-10 18:00:00</th>\n",
       "      <td>27.07</td>\n",
       "      <td>0.14</td>\n",
       "      <td>27.40</td>\n",
       "      <td>0.73</td>\n",
       "      <td>clear-night</td>\n",
       "      <td>330.45</td>\n",
       "      <td>NaN</td>\n",
       "      <td>0.0001</td>\n",
       "      <td>0.02</td>\n",
       "      <td>rain</td>\n",
       "      <td>1015.05</td>\n",
       "      <td>Clear</td>\n",
       "      <td>35.10</td>\n",
       "      <td>0</td>\n",
       "      <td>10</td>\n",
       "      <td>243</td>\n",
       "      <td>22.98</td>\n",
       "      <td>11.07</td>\n",
       "    </tr>\n",
       "  </tbody>\n",
       "</table>\n",
       "</div>"
      ],
      "text/plain": [
       "                     apparentTemperature  cloudCover  dewPoint  humidity  \\\n",
       "time                                                                       \n",
       "2017-12-10 14:00:00                34.13        0.11     25.65      0.59   \n",
       "2017-12-10 15:00:00                33.28        0.22     26.12      0.61   \n",
       "2017-12-10 16:00:00                31.08        0.30     26.91      0.66   \n",
       "2017-12-10 17:00:00                28.69        0.24     27.55      0.71   \n",
       "2017-12-10 18:00:00                27.07        0.14     27.40      0.73   \n",
       "\n",
       "                                  icon   ozone  precipAccumulation  \\\n",
       "time                                                                 \n",
       "2017-12-10 14:00:00               rain  330.84                 NaN   \n",
       "2017-12-10 15:00:00          clear-day  329.77                 NaN   \n",
       "2017-12-10 16:00:00  partly-cloudy-day  329.22                 NaN   \n",
       "2017-12-10 17:00:00        clear-night  329.61                 NaN   \n",
       "2017-12-10 18:00:00        clear-night  330.45                 NaN   \n",
       "\n",
       "                     precipIntensity  precipProbability precipType  pressure  \\\n",
       "time                                                                           \n",
       "2017-12-10 14:00:00           0.0285               0.66       rain   1012.85   \n",
       "2017-12-10 15:00:00           0.0032               0.56       rain   1013.49   \n",
       "2017-12-10 16:00:00           0.0121               0.32       rain   1014.25   \n",
       "2017-12-10 17:00:00           0.0045               0.11       rain   1014.63   \n",
       "2017-12-10 18:00:00           0.0001               0.02       rain   1015.05   \n",
       "\n",
       "                           summary  temperature  uvIndex  visibility  \\\n",
       "time                                                                   \n",
       "2017-12-10 14:00:00     Light Rain        38.54        1          10   \n",
       "2017-12-10 15:00:00          Clear        38.21        1          10   \n",
       "2017-12-10 16:00:00  Partly Cloudy        37.20        0          10   \n",
       "2017-12-10 17:00:00          Clear        36.07        0          10   \n",
       "2017-12-10 18:00:00          Clear        35.10        0          10   \n",
       "\n",
       "                     windBearing  windGust  windSpeed  \n",
       "time                                                   \n",
       "2017-12-10 14:00:00          268     11.72       5.83  \n",
       "2017-12-10 15:00:00          249     13.86       6.52  \n",
       "2017-12-10 16:00:00          238     18.40       8.18  \n",
       "2017-12-10 17:00:00          243     20.93      10.20  \n",
       "2017-12-10 18:00:00          243     22.98      11.07  "
      ]
     },
     "execution_count": 7,
     "metadata": {},
     "output_type": "execute_result"
    }
   ],
   "source": [
    "hourly_df.time = hourly_df.time.apply(datetime.datetime.fromtimestamp)\n",
    "hourly_df.set_index('time',inplace=True)\n",
    "print(f'We have {len(hourly_df)} rows of weather data')\n",
    "hourly_df.head()"
   ]
  },
  {
   "cell_type": "markdown",
   "metadata": {},
   "source": [
    "Now we can see that we have hourly forecasts for the next two days starting with the current hour. But while dataframes are great for mainpulating data, its always easier to understand if you plot it. "
   ]
  },
  {
   "cell_type": "code",
   "execution_count": 8,
   "metadata": {},
   "outputs": [
    {
     "data": {
      "image/png": "[encoded data removed]",
      "text/plain": [
       "<matplotlib.figure.Figure at 0x17c03361320>"
      ]
     },
     "metadata": {},
     "output_type": "display_data"
    }
   ],
   "source": [
    "ax = hourly_df.precipIntensity.plot('area', style='royalblue')\n",
    "ax.set_ylabel('Rain Intensity (Inches per hour)')\n",
    "ax = _"
   ]
  },
  {
   "cell_type": "markdown",
   "metadata": {},
   "source": [
    "Rain Intensity is interesting but since we also have Rain Probability we can make a slightly better measure of rain, the expected number of inches, which I define as the intensity of the rain * the probability of rain. In other words I consider a high chance of light rain to give the same amount of rain as a low chance of heavy rain, your mileage may vary. "
   ]
  },
  {
   "cell_type": "code",
   "execution_count": 9,
   "metadata": {},
   "outputs": [],
   "source": [
    "hourly_df['expected_precip'] = hourly_df.precipIntensity*hourly_df.precipProbability"
   ]
  },
  {
   "cell_type": "code",
   "execution_count": 10,
   "metadata": {},
   "outputs": [
    {
     "data": {
      "image/png": "[encoded data removed]",
      "text/plain": [
       "<matplotlib.figure.Figure at 0x17c038bd9b0>"
      ]
     },
     "metadata": {},
     "output_type": "display_data"
    }
   ],
   "source": [
    "ax = hourly_df.expected_precip.plot('area', style='royalblue')\n",
    "ax.set_ylabel('Expected Rain (Inches per hour)')\n",
    "ax = _"
   ]
  },
  {
   "cell_type": "markdown",
   "metadata": {},
   "source": [
    "Depending on when you run this notebook, you may or may not see some rain forecast. Let's look at temperature, regardless of when you run this notebook, you should have a temperature forecast, unless (a) the universe is about to end and this API knows that, or (b) the API is broken. "
   ]
  },
  {
   "cell_type": "code",
   "execution_count": 11,
   "metadata": {},
   "outputs": [
    {
     "data": {
      "image/png": "[encoded data removed]",
      "text/plain": [
       "<matplotlib.figure.Figure at 0x17c038bd2e8>"
      ]
     },
     "metadata": {},
     "output_type": "display_data"
    }
   ],
   "source": [
    "ax = hourly_df.apparentTemperature.plot(style='seagreen')\n",
    "ax.set_ylabel('Apparent Temperature (°F)')\n",
    "ax = _"
   ]
  },
  {
   "cell_type": "markdown",
   "metadata": {},
   "source": [
    "Inches of rain is great if you are a meteorologist, but for everyone else, I'll replace those with some simpler indicators of light, medium, and heavy rain. The scale of your rain graph will change a lot here. Let's also put everything on one graph, that we can save/email later. "
   ]
  },
  {
   "cell_type": "code",
   "execution_count": 12,
   "metadata": {},
   "outputs": [
    {
     "data": {
      "image/png": "[encoded data removed]",
      "text/plain": [
       "<matplotlib.figure.Figure at 0x17c03a48b70>"
      ]
     },
     "metadata": {},
     "output_type": "display_data"
    }
   ],
   "source": [
    "def make_weather_plot(df):\n",
    "    fig, ax = plt.subplots()\n",
    "    rain_color = 'royalblue'\n",
    "    temp_color = 'seagreen'\n",
    "    size=12\n",
    "    df.apparentTemperature.plot(fig=fig, style=temp_color, label='°F', zorder=10)\n",
    "    ax2 = df.expected_precip.plot('area', secondary_y=True, zorder=1, style=rain_color, fig=fig, sharex=True, label='Rain')\n",
    "    ax.set_ylim([10, 100])\n",
    "    ax.tick_params(axis='y', colors=temp_color,size=size)\n",
    "    ax.set_ylabel('°F',rotation=0,labelpad=20,color=temp_color,size=size)\n",
    "    ax2.set_ylim([0.0, 0.5])\n",
    "    rain_ticks = [0.0,0.017,0.1,0.4]\n",
    "    rain_ticknames = ['','Light Rain','Medium Rain','Heavy Rain']\n",
    "    ax2.yaxis.set_ticks(rain_ticks)\n",
    "    ax2.yaxis.set_ticklabels(rain_ticknames, color = rain_color, size=size)\n",
    "    return fig, ax\n",
    "make_weather_plot(hourly_df);"
   ]
  },
  {
   "cell_type": "markdown",
   "metadata": {},
   "source": [
    "Now I don't know about you but when I'm planning my day I don't really care about rainfall or even temperature during the night, so let's define of a time period of interest. First let's assume if you are running this before 8am you want a forecast for today but if you are running it afterwards you want tomorrow's forecast (i.e. you've already left the house)"
   ]
  },
  {
   "cell_type": "code",
   "execution_count": 13,
   "metadata": {},
   "outputs": [
    {
     "data": {
      "text/plain": [
       "'2017-12-11'"
      ]
     },
     "execution_count": 13,
     "metadata": {},
     "output_type": "execute_result"
    }
   ],
   "source": [
    "now = datetime.datetime.now()\n",
    "if now.hour < 8:\n",
    "     day_of_interest =  now.date().strftime('%Y-%m-%d')\n",
    "else:\n",
    "     day_of_interest =  (now.date() + datetime.timedelta(1)).strftime('%Y-%m-%d')\n",
    "day_of_interest"
   ]
  },
  {
   "cell_type": "markdown",
   "metadata": {},
   "source": [
    "With that day we can now take a slice of our original dataframe looking at just a time window during which we are likely to be out and about. Now we see why we set the time to be the index of the dataframe; Pandas lets you do quite nice time slicing with a datetime index."
   ]
  },
  {
   "cell_type": "code",
   "execution_count": 14,
   "metadata": {},
   "outputs": [
    {
     "data": {
      "text/html": [
       "<div>\n",
       "<style>\n",
       "    .dataframe thead tr:only-child th {\n",
       "        text-align: right;\n",
       "    }\n",
       "\n",
       "    .dataframe thead th {\n",
       "        text-align: left;\n",
       "    }\n",
       "\n",
       "    .dataframe tbody tr th {\n",
       "        vertical-align: top;\n",
       "    }\n",
       "</style>\n",
       "<table border=\"1\" class=\"dataframe\">\n",
       "  <thead>\n",
       "    <tr style=\"text-align: right;\">\n",
       "      <th></th>\n",
       "      <th>apparentTemperature</th>\n",
       "      <th>cloudCover</th>\n",
       "      <th>dewPoint</th>\n",
       "      <th>humidity</th>\n",
       "      <th>icon</th>\n",
       "      <th>ozone</th>\n",
       "      <th>precipAccumulation</th>\n",
       "      <th>precipIntensity</th>\n",
       "      <th>precipProbability</th>\n",
       "      <th>precipType</th>\n",
       "      <th>pressure</th>\n",
       "      <th>summary</th>\n",
       "      <th>temperature</th>\n",
       "      <th>uvIndex</th>\n",
       "      <th>visibility</th>\n",
       "      <th>windBearing</th>\n",
       "      <th>windGust</th>\n",
       "      <th>windSpeed</th>\n",
       "      <th>expected_precip</th>\n",
       "    </tr>\n",
       "    <tr>\n",
       "      <th>time</th>\n",
       "      <th></th>\n",
       "      <th></th>\n",
       "      <th></th>\n",
       "      <th></th>\n",
       "      <th></th>\n",
       "      <th></th>\n",
       "      <th></th>\n",
       "      <th></th>\n",
       "      <th></th>\n",
       "      <th></th>\n",
       "      <th></th>\n",
       "      <th></th>\n",
       "      <th></th>\n",
       "      <th></th>\n",
       "      <th></th>\n",
       "      <th></th>\n",
       "      <th></th>\n",
       "      <th></th>\n",
       "      <th></th>\n",
       "    </tr>\n",
       "  </thead>\n",
       "  <tbody>\n",
       "    <tr>\n",
       "      <th>2017-12-11 08:00:00</th>\n",
       "      <td>25.23</td>\n",
       "      <td>0.75</td>\n",
       "      <td>26.10</td>\n",
       "      <td>0.77</td>\n",
       "      <td>partly-cloudy-day</td>\n",
       "      <td>335.68</td>\n",
       "      <td>0.006</td>\n",
       "      <td>0.0008</td>\n",
       "      <td>0.04</td>\n",
       "      <td>snow</td>\n",
       "      <td>1015.80</td>\n",
       "      <td>Mostly Cloudy</td>\n",
       "      <td>32.34</td>\n",
       "      <td>0</td>\n",
       "      <td>10</td>\n",
       "      <td>222</td>\n",
       "      <td>19.96</td>\n",
       "      <td>8.05</td>\n",
       "      <td>0.000032</td>\n",
       "    </tr>\n",
       "    <tr>\n",
       "      <th>2017-12-11 09:00:00</th>\n",
       "      <td>26.67</td>\n",
       "      <td>0.40</td>\n",
       "      <td>25.95</td>\n",
       "      <td>0.74</td>\n",
       "      <td>partly-cloudy-day</td>\n",
       "      <td>328.25</td>\n",
       "      <td>0.000</td>\n",
       "      <td>0.0003</td>\n",
       "      <td>0.03</td>\n",
       "      <td>snow</td>\n",
       "      <td>1016.32</td>\n",
       "      <td>Partly Cloudy</td>\n",
       "      <td>33.30</td>\n",
       "      <td>1</td>\n",
       "      <td>10</td>\n",
       "      <td>304</td>\n",
       "      <td>19.50</td>\n",
       "      <td>7.62</td>\n",
       "      <td>0.000009</td>\n",
       "    </tr>\n",
       "    <tr>\n",
       "      <th>2017-12-11 10:00:00</th>\n",
       "      <td>26.65</td>\n",
       "      <td>0.14</td>\n",
       "      <td>26.01</td>\n",
       "      <td>0.71</td>\n",
       "      <td>clear-day</td>\n",
       "      <td>322.51</td>\n",
       "      <td>0.000</td>\n",
       "      <td>0.0001</td>\n",
       "      <td>0.02</td>\n",
       "      <td>snow</td>\n",
       "      <td>1016.69</td>\n",
       "      <td>Clear</td>\n",
       "      <td>34.36</td>\n",
       "      <td>1</td>\n",
       "      <td>10</td>\n",
       "      <td>268</td>\n",
       "      <td>18.59</td>\n",
       "      <td>10.01</td>\n",
       "      <td>0.000002</td>\n",
       "    </tr>\n",
       "    <tr>\n",
       "      <th>2017-12-11 11:00:00</th>\n",
       "      <td>28.63</td>\n",
       "      <td>0.08</td>\n",
       "      <td>26.21</td>\n",
       "      <td>0.68</td>\n",
       "      <td>clear-day</td>\n",
       "      <td>320.54</td>\n",
       "      <td>NaN</td>\n",
       "      <td>0.0001</td>\n",
       "      <td>0.02</td>\n",
       "      <td>rain</td>\n",
       "      <td>1016.67</td>\n",
       "      <td>Clear</td>\n",
       "      <td>35.73</td>\n",
       "      <td>1</td>\n",
       "      <td>10</td>\n",
       "      <td>266</td>\n",
       "      <td>16.57</td>\n",
       "      <td>9.43</td>\n",
       "      <td>0.000002</td>\n",
       "    </tr>\n",
       "    <tr>\n",
       "      <th>2017-12-11 12:00:00</th>\n",
       "      <td>31.37</td>\n",
       "      <td>0.06</td>\n",
       "      <td>26.52</td>\n",
       "      <td>0.64</td>\n",
       "      <td>clear-day</td>\n",
       "      <td>320.28</td>\n",
       "      <td>NaN</td>\n",
       "      <td>0.0001</td>\n",
       "      <td>0.02</td>\n",
       "      <td>rain</td>\n",
       "      <td>1016.46</td>\n",
       "      <td>Clear</td>\n",
       "      <td>37.58</td>\n",
       "      <td>2</td>\n",
       "      <td>10</td>\n",
       "      <td>267</td>\n",
       "      <td>14.03</td>\n",
       "      <td>8.52</td>\n",
       "      <td>0.000002</td>\n",
       "    </tr>\n",
       "  </tbody>\n",
       "</table>\n",
       "</div>"
      ],
      "text/plain": [
       "                     apparentTemperature  cloudCover  dewPoint  humidity  \\\n",
       "time                                                                       \n",
       "2017-12-11 08:00:00                25.23        0.75     26.10      0.77   \n",
       "2017-12-11 09:00:00                26.67        0.40     25.95      0.74   \n",
       "2017-12-11 10:00:00                26.65        0.14     26.01      0.71   \n",
       "2017-12-11 11:00:00                28.63        0.08     26.21      0.68   \n",
       "2017-12-11 12:00:00                31.37        0.06     26.52      0.64   \n",
       "\n",
       "                                  icon   ozone  precipAccumulation  \\\n",
       "time                                                                 \n",
       "2017-12-11 08:00:00  partly-cloudy-day  335.68               0.006   \n",
       "2017-12-11 09:00:00  partly-cloudy-day  328.25               0.000   \n",
       "2017-12-11 10:00:00          clear-day  322.51               0.000   \n",
       "2017-12-11 11:00:00          clear-day  320.54                 NaN   \n",
       "2017-12-11 12:00:00          clear-day  320.28                 NaN   \n",
       "\n",
       "                     precipIntensity  precipProbability precipType  pressure  \\\n",
       "time                                                                           \n",
       "2017-12-11 08:00:00           0.0008               0.04       snow   1015.80   \n",
       "2017-12-11 09:00:00           0.0003               0.03       snow   1016.32   \n",
       "2017-12-11 10:00:00           0.0001               0.02       snow   1016.69   \n",
       "2017-12-11 11:00:00           0.0001               0.02       rain   1016.67   \n",
       "2017-12-11 12:00:00           0.0001               0.02       rain   1016.46   \n",
       "\n",
       "                           summary  temperature  uvIndex  visibility  \\\n",
       "time                                                                   \n",
       "2017-12-11 08:00:00  Mostly Cloudy        32.34        0          10   \n",
       "2017-12-11 09:00:00  Partly Cloudy        33.30        1          10   \n",
       "2017-12-11 10:00:00          Clear        34.36        1          10   \n",
       "2017-12-11 11:00:00          Clear        35.73        1          10   \n",
       "2017-12-11 12:00:00          Clear        37.58        2          10   \n",
       "\n",
       "                     windBearing  windGust  windSpeed  expected_precip  \n",
       "time                                                                    \n",
       "2017-12-11 08:00:00          222     19.96       8.05         0.000032  \n",
       "2017-12-11 09:00:00          304     19.50       7.62         0.000009  \n",
       "2017-12-11 10:00:00          268     18.59      10.01         0.000002  \n",
       "2017-12-11 11:00:00          266     16.57       9.43         0.000002  \n",
       "2017-12-11 12:00:00          267     14.03       8.52         0.000002  "
      ]
     },
     "execution_count": 14,
     "metadata": {},
     "output_type": "execute_result"
    }
   ],
   "source": [
    "slice_of_interest = hourly_df[day_of_interest+' 08:00:00':day_of_interest+' 22:00:00']\n",
    "slice_of_interest.head()"
   ]
  },
  {
   "cell_type": "code",
   "execution_count": 15,
   "metadata": {},
   "outputs": [
    {
     "data": {
      "image/png": "[encoded data removed]",
      "text/plain": [
       "<matplotlib.figure.Figure at 0x17c03a5ec18>"
      ]
     },
     "metadata": {},
     "output_type": "display_data"
    }
   ],
   "source": [
    "fig, ax = make_weather_plot(slice_of_interest)\n",
    "## Let's add a little extra to the plot, now the timespan is consistent\n",
    "plain_color = 'slategrey'\n",
    "size=12\n",
    "ax.set_xlabel(day_of_interest, size=size, color=plain_color)\n",
    "ax.xaxis.set_ticklabels(['','10am','Noon','2pm','4pm','6pm','8pm',''], size=size, color=plain_color, minor=True)\n",
    "ax.xaxis.set_ticklabels(['8am','10pm'], color=plain_color, size=size)\n",
    "ax.annotate('Max: {:.0f}°F'.format(slice_of_interest.apparentTemperature.max()),xy=(day_of_interest+' 09:00:00', 92), color=plain_color, size=size)\n",
    "ax.annotate('Min: {:.0f}°F'.format(slice_of_interest.apparentTemperature.min()),xy=(day_of_interest+' 09:00:00', 87), color=plain_color, size=size)\n",
    "ax = _"
   ]
  },
  {
   "cell_type": "markdown",
   "metadata": {},
   "source": [
    "Ok with our graph and sliced dataframe in hand we are almost ready to email ourselves a daily forecast. To take advantage of iPhone's previewing a VIP email's subject, let's make an email subject that is short and easy to understand at a glance. "
   ]
  },
  {
   "cell_type": "markdown",
   "metadata": {},
   "source": [
    "#### Warning I run hot, and have a tolerance for drizzle, you will want to tinker with these thresholds to suit your taste. My advice is trust your forecast and if you feel chilly or wet at the end of the day change them. "
   ]
  },
  {
   "cell_type": "code",
   "execution_count": 16,
   "metadata": {},
   "outputs": [
    {
     "name": "stdout",
     "output_type": "stream",
     "text": [
      "Yes Coat, No Umbrella\n"
     ]
    }
   ],
   "source": [
    "coat = \"No Coat\" if slice_of_interest.apparentTemperature.min() > 53 else \"Yes Coat\"\n",
    "umbrella = \"No Umbrella\" if slice_of_interest.expected_precip.max() < 0.005 else \"Yes Umbrella\"\n",
    "subject = coat+\", \"+umbrella\n",
    "print(subject)"
   ]
  },
  {
   "cell_type": "markdown",
   "metadata": {},
   "source": [
    "With all of that in hand let's send an email with that subject and our graph in the body of the email, in case we want more details about when the rain is coming. "
   ]
  },
  {
   "cell_type": "code",
   "execution_count": 17,
   "metadata": {},
   "outputs": [],
   "source": [
    "import smtplib\n",
    "from os.path import basename\n",
    "from email.mime.text import MIMEText\n",
    "from email.mime.application import MIMEApplication\n",
    "from email.mime.multipart import MIMEMultipart\n",
    "from email.utils import formatdate"
   ]
  },
  {
   "cell_type": "code",
   "execution_count": 18,
   "metadata": {},
   "outputs": [],
   "source": [
    "# Save your figure as a file\n",
    "filename = 'forecast.png'\n",
    "fig.savefig(filename, bbox_inches='tight', pad_inches=0.1)"
   ]
  },
  {
   "cell_type": "code",
   "execution_count": 19,
   "metadata": {},
   "outputs": [
    {
     "data": {
      "text/plain": [
       "(221, b'2.0.0 closing connection y124sm3089572qkd.82 - gsmtp')"
      ]
     },
     "execution_count": 19,
     "metadata": {},
     "output_type": "execute_result"
    }
   ],
   "source": [
    "# Set up your email\n",
    "msg = MIMEMultipart(\n",
    "    From=cdict[\"emailuser\"],\n",
    "    To=cdict[\"emailuser\"],\n",
    "    Date=formatdate(localtime=True),\n",
    "    Subject=subject\n",
    "    )\n",
    "msg['Subject'] = subject\n",
    "\n",
    "# Attach your plot and have it display, I modifid the code from this Stack Overflow answer, there may be a better way. https://stackoverflow.com/questions/3362600/how-to-send-email-attachments\n",
    "my_html = '''\n",
    "<img src=\"{}\" />\n",
    "'''.format(filename)\n",
    "msg.attach(MIMEText(my_html,'html'))\n",
    "\n",
    "with open(filename, \"rb\") as fil:\n",
    "    msg.attach(MIMEApplication(\n",
    "        fil.read(),\n",
    "        Content_Disposition='attachment; filename=\"{}\"'.format(basename(filename)),\n",
    "        Name=basename(filename)\n",
    "    ))\n",
    "\n",
    "# Send your email via gmail, if you use another email service, google how to setup your SMTP connection \n",
    "server = smtplib.SMTP(\"smtp.gmail.com:587\")\n",
    "server.starttls()\n",
    "server.login(cdict[\"emailuser\"], cdict[\"emailpass\"])\n",
    "server.sendmail(cdict[\"emailuser\"], cdict[\"emailuser\"], msg.as_string())\n",
    "server.quit()"
   ]
  },
  {
   "cell_type": "markdown",
   "metadata": {},
   "source": [
    "And there you go, you've now sent yourself an email with a forecast for the day and a simple subject so you know at a glance whether to grab your coat and/or umbrella. The final step is to save the above code to a script and set a cronjob to run early in the morning before you wake up, so it's waiting when you first grab your phone. Personally I have this and other daily cronjobs running on a Raspberry Pi, that I don't mind leaving on 24/7."
   ]
  }
 ],
 "metadata": {
  "kernelspec": {
   "display_name": "Python 3",
   "language": "python",
   "name": "python3"
  },
  "language_info": {
   "codemirror_mode": {
    "name": "ipython",
    "version": 3
   },
   "file_extension": ".py",
   "mimetype": "text/x-python",
   "name": "python",
   "nbconvert_exporter": "python",
   "pygments_lexer": "ipython3",
   "version": "3.6.1"
  }
 },
 "nbformat": 4,
 "nbformat_minor": 2
}
